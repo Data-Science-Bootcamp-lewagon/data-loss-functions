{
 "cells": [
  {
   "cell_type": "markdown",
   "metadata": {},
   "source": [
    "# Loss Functions"
   ]
  },
  {
   "cell_type": "markdown",
   "metadata": {},
   "source": [
    "In this exercise, you will compare the effects of Loss functions on a `LinearRegression` model."
   ]
  },
  {
   "cell_type": "markdown",
   "metadata": {},
   "source": [
    "👇 Let's download a CSV file to use for this challenge and parse it into a DataFrame"
   ]
  },
  {
   "cell_type": "code",
   "execution_count": 1,
   "metadata": {},
   "outputs": [
    {
     "data": {
      "text/html": [
       "<div>\n",
       "<style scoped>\n",
       "    .dataframe tbody tr th:only-of-type {\n",
       "        vertical-align: middle;\n",
       "    }\n",
       "\n",
       "    .dataframe tbody tr th {\n",
       "        vertical-align: top;\n",
       "    }\n",
       "\n",
       "    .dataframe thead th {\n",
       "        text-align: right;\n",
       "    }\n",
       "</style>\n",
       "<table border=\"1\" class=\"dataframe\">\n",
       "  <thead>\n",
       "    <tr style=\"text-align: right;\">\n",
       "      <th></th>\n",
       "      <th>Relative Compactness</th>\n",
       "      <th>Surface Area</th>\n",
       "      <th>Wall Area</th>\n",
       "      <th>Roof Area</th>\n",
       "      <th>Overall Height</th>\n",
       "      <th>Glazing Area</th>\n",
       "      <th>Average Temperature</th>\n",
       "    </tr>\n",
       "  </thead>\n",
       "  <tbody>\n",
       "    <tr>\n",
       "      <th>545</th>\n",
       "      <td>0.79</td>\n",
       "      <td>637.0</td>\n",
       "      <td>343.0</td>\n",
       "      <td>147.00</td>\n",
       "      <td>7.0</td>\n",
       "      <td>0.40</td>\n",
       "      <td>40.845</td>\n",
       "    </tr>\n",
       "    <tr>\n",
       "      <th>482</th>\n",
       "      <td>0.98</td>\n",
       "      <td>514.5</td>\n",
       "      <td>294.0</td>\n",
       "      <td>110.25</td>\n",
       "      <td>7.0</td>\n",
       "      <td>0.25</td>\n",
       "      <td>29.075</td>\n",
       "    </tr>\n",
       "    <tr>\n",
       "      <th>454</th>\n",
       "      <td>0.76</td>\n",
       "      <td>661.5</td>\n",
       "      <td>416.5</td>\n",
       "      <td>122.50</td>\n",
       "      <td>7.0</td>\n",
       "      <td>0.25</td>\n",
       "      <td>36.930</td>\n",
       "    </tr>\n",
       "    <tr>\n",
       "      <th>312</th>\n",
       "      <td>0.74</td>\n",
       "      <td>686.0</td>\n",
       "      <td>245.0</td>\n",
       "      <td>220.50</td>\n",
       "      <td>3.5</td>\n",
       "      <td>0.25</td>\n",
       "      <td>13.810</td>\n",
       "    </tr>\n",
       "    <tr>\n",
       "      <th>571</th>\n",
       "      <td>0.64</td>\n",
       "      <td>784.0</td>\n",
       "      <td>343.0</td>\n",
       "      <td>220.50</td>\n",
       "      <td>3.5</td>\n",
       "      <td>0.40</td>\n",
       "      <td>20.975</td>\n",
       "    </tr>\n",
       "  </tbody>\n",
       "</table>\n",
       "</div>"
      ],
      "text/plain": [
       "     Relative Compactness  Surface Area  Wall Area  Roof Area  Overall Height  \\\n",
       "545                  0.79         637.0      343.0     147.00             7.0   \n",
       "482                  0.98         514.5      294.0     110.25             7.0   \n",
       "454                  0.76         661.5      416.5     122.50             7.0   \n",
       "312                  0.74         686.0      245.0     220.50             3.5   \n",
       "571                  0.64         784.0      343.0     220.50             3.5   \n",
       "\n",
       "     Glazing Area  Average Temperature  \n",
       "545          0.40               40.845  \n",
       "482          0.25               29.075  \n",
       "454          0.25               36.930  \n",
       "312          0.25               13.810  \n",
       "571          0.40               20.975  "
      ]
     },
     "execution_count": 1,
     "metadata": {},
     "output_type": "execute_result"
    }
   ],
   "source": [
    "import pandas as pd\n",
    "\n",
    "data = pd.read_csv(\"https://wagon-public-datasets.s3.amazonaws.com/05-Machine-Learning/04-Under-the-Hood/loss_functions_dataset.csv\")\n",
    "data.sample(5)"
   ]
  },
  {
   "cell_type": "markdown",
   "metadata": {},
   "source": [
    "🎯 Your task is to predict the average temperature inside a greenhouse based on its design. Your temperature predictions will help you select the appropriate greenhouse design for each plant, based on their climate needs. \n",
    "\n",
    "🌿 You know that plants can handle small temperature variations, but are exponentially more sensitive as the temperature variations increase. "
   ]
  },
  {
   "cell_type": "markdown",
   "metadata": {},
   "source": [
    "## 1. Theory "
   ]
  },
  {
   "cell_type": "markdown",
   "metadata": {},
   "source": [
    "❓ Theoretically, which Loss function would you train your model on to limit the risk of killing plants?"
   ]
  },
  {
   "cell_type": "markdown",
   "metadata": {},
   "source": [
    "<details>\n",
    "<summary> 🆘 Answer </summary>\n",
    "    \n",
    "By theory, you would use a Mean Square Error (MSE) Loss function. It would penalize outlier predictions and prevent your model from committing large errors. This would ensure smaller temperature variations and a lower risk for plants.\n",
    "\n",
    "</details>"
   ]
  },
  {
   "cell_type": "markdown",
   "metadata": {
    "tags": [
     "challengify"
    ]
   },
   "source": [
    "> YOUR ANSWER HERE"
   ]
  },
  {
   "cell_type": "markdown",
   "metadata": {},
   "source": [
    "## 2. Application"
   ]
  },
  {
   "cell_type": "markdown",
   "metadata": {},
   "source": [
    "### 2.1 Preprocessing"
   ]
  },
  {
   "cell_type": "markdown",
   "metadata": {},
   "source": [
    "❓ Standardise the features"
   ]
  },
  {
   "cell_type": "code",
   "execution_count": 2,
   "metadata": {
    "tags": [
     "challengify"
    ]
   },
   "outputs": [],
   "source": [
    "# YOUR CODE HERE\n",
    "from sklearn.preprocessing import StandardScaler\n",
    "\n",
    "X = data.drop(columns= ['Average Temperature'])\n",
    "\n",
    "scaler = StandardScaler().fit(X)\n",
    "\n",
    "X_scaled = scaler.transform(X)"
   ]
  },
  {
   "cell_type": "markdown",
   "metadata": {},
   "source": [
    "### 2.2 Modeling"
   ]
  },
  {
   "cell_type": "markdown",
   "metadata": {},
   "source": [
    "In this section, you are going to verify the theory by evaluating models optimized on different Loss functions."
   ]
  },
  {
   "cell_type": "markdown",
   "metadata": {},
   "source": [
    "### Least Squares (MSE) Loss"
   ]
  },
  {
   "cell_type": "markdown",
   "metadata": {},
   "source": [
    "❓ **10-Fold Cross-validate** a Linear Regression model optimized by **Stochastic Gradient Descent** (SGD) on a **Least Squares Loss** (MSE)\n",
    "\n"
   ]
  },
  {
   "cell_type": "code",
   "execution_count": 3,
   "metadata": {
    "tags": [
     "challengify"
    ]
   },
   "outputs": [
    {
     "data": {
      "text/plain": [
       "{'fit_time': array([0.0144794 , 0.00508118, 0.00364566, 0.00393701, 0.00404739,\n",
       "        0.00386071, 0.00361562, 0.00387931, 0.00455642, 0.00369143]),\n",
       " 'score_time': array([0.00487542, 0.00123286, 0.00101542, 0.0009737 , 0.00104475,\n",
       "        0.00081158, 0.0008862 , 0.0014658 , 0.00085092, 0.00077128]),\n",
       " 'test_r2': array([0.78676839, 0.90917169, 0.89565695, 0.88375602, 0.93133697,\n",
       "        0.89671258, 0.9270804 , 0.91624173, 0.89538475, 0.93955611]),\n",
       " 'test_max_error': array([-9.7778641 , -8.65877552, -8.8652513 , -9.15034147, -8.85218401,\n",
       "        -8.58936341, -8.55820007, -8.80733745, -8.34607764, -7.64764026])}"
      ]
     },
     "execution_count": 3,
     "metadata": {},
     "output_type": "execute_result"
    }
   ],
   "source": [
    "# YOUR CODE HERE\n",
    "from sklearn.model_selection import cross_validate\n",
    "from sklearn.linear_model import SGDRegressor\n",
    "\n",
    "sgd_model = SGDRegressor(loss=\"squared_error\")\n",
    "\n",
    "modelcv = cross_validate(sgd_model, X_scaled, data['Average Temperature'], cv =10, scoring=['r2','max_error'])\n",
    "\n",
    "modelcv"
   ]
  },
  {
   "cell_type": "markdown",
   "metadata": {},
   "source": [
    "❓ Compute \n",
    "- the mean cross-validated R2 score and save it in the variable `r2`\n",
    "- the single biggest prediction error in °C of all your folds and save it in the variable `max_error_celsius`?\n",
    "\n",
    "(Tips: `max_error` is an accepted scoring metric in sklearn)"
   ]
  },
  {
   "cell_type": "code",
   "execution_count": 4,
   "metadata": {
    "tags": [
     "challengify"
    ]
   },
   "outputs": [],
   "source": [
    "# YOUR CODE HERE\n",
    "r2 = modelcv['test_r2'].mean()\n",
    "max_error_celsius = abs(modelcv['test_max_error']).max()\n"
   ]
  },
  {
   "cell_type": "markdown",
   "metadata": {},
   "source": [
    "### Mean Absolute Error (MAE) Loss"
   ]
  },
  {
   "cell_type": "markdown",
   "metadata": {},
   "source": [
    "What if we optimize our model on the MAE instead?\n",
    "\n",
    "❓ **10-Fold Cross-validate** a Linear Regression model optimized by **Stochastic Gradient Descent** (SGD) on a **MAE** Loss"
   ]
  },
  {
   "cell_type": "markdown",
   "metadata": {},
   "source": [
    "<details>\n",
    "<summary>💡 Hints</summary>\n",
    "\n",
    "- MAE loss cannot be directly specified in `SGDRegressor`. It must be engineered by adjusting the right parameters\n",
    "\n",
    "</details>"
   ]
  },
  {
   "cell_type": "code",
   "execution_count": 5,
   "metadata": {
    "tags": [
     "challengify"
    ]
   },
   "outputs": [
    {
     "data": {
      "text/plain": [
       "{'fit_time': array([0.01517844, 0.00869846, 0.00597787, 0.00466084, 0.00955057,\n",
       "        0.00569558, 0.00645018, 0.00933552, 0.00441313, 0.00884366]),\n",
       " 'score_time': array([0.00269175, 0.00341415, 0.00110865, 0.00119472, 0.00198984,\n",
       "        0.00123239, 0.00237465, 0.00239539, 0.00221586, 0.00207496]),\n",
       " 'test_r2': array([0.78658682, 0.90900385, 0.89625607, 0.8832992 , 0.93133685,\n",
       "        0.89683386, 0.92715379, 0.91655068, 0.89519896, 0.9390222 ]),\n",
       " 'test_max_error': array([-9.85991134, -8.63975133, -8.72590242, -9.18396799, -8.86548691,\n",
       "        -8.48251021, -8.51177967, -8.85118257, -8.47963833, -7.67478106])}"
      ]
     },
     "execution_count": 5,
     "metadata": {},
     "output_type": "execute_result"
    }
   ],
   "source": [
    "# YOUR CODE HERE\n",
    "sgd_model = SGDRegressor(loss=\"squared_error\", epsilon= 0)\n",
    "\n",
    "modelmae = cross_validate(sgd_model, X_scaled, data['Average Temperature'], cv =10, scoring=['r2','max_error'])\n",
    "\n",
    "modelmae"
   ]
  },
  {
   "cell_type": "markdown",
   "metadata": {},
   "source": [
    "❓ Compute \n",
    "- the mean cross-validated R2 score, store it in `r2_mae`\n",
    "- the single biggest prediction error of all your folds, store it in `max_error_mae`?"
   ]
  },
  {
   "cell_type": "code",
   "execution_count": 6,
   "metadata": {
    "tags": [
     "challengify"
    ]
   },
   "outputs": [],
   "source": [
    "# YOUR CODE HERE\n",
    "r2_mae = modelmae['test_r2'].mean()\n",
    "max_error_mae = abs(modelmae['test_max_error']).max()\n"
   ]
  },
  {
   "cell_type": "markdown",
   "metadata": {},
   "source": [
    "## 3. Conclusion"
   ]
  },
  {
   "cell_type": "markdown",
   "metadata": {},
   "source": [
    "❓Which of the models you evaluated seems the most appropriate for your task?"
   ]
  },
  {
   "cell_type": "markdown",
   "metadata": {},
   "source": [
    "<details>\n",
    "<summary> 🆘Answer </summary>\n",
    "    \n",
    "Although mean cross-validated r2 scores are approximately similar between the two models, the one optimized on a MAE has more chance to make larger mistakes from time to time, increasing the risk of killing plants!\n",
    "\n",
    "    \n",
    "</details>"
   ]
  },
  {
   "cell_type": "markdown",
   "metadata": {
    "tags": [
     "challengify"
    ]
   },
   "source": [
    "> YOUR ANSWER HERE"
   ]
  },
  {
   "cell_type": "markdown",
   "metadata": {},
   "source": [
    "# 🏁 Check your code and push your notebook"
   ]
  },
  {
   "cell_type": "code",
   "execution_count": 7,
   "metadata": {},
   "outputs": [
    {
     "name": "stdout",
     "output_type": "stream",
     "text": [
      "\n",
      "\u001b[1m============================= test session starts ==============================\u001b[0m\n",
      "platform linux -- Python 3.10.6, pytest-7.1.3, pluggy-1.0.0 -- /home/yousif/.pyenv/versions/3.10.6/envs/lewagon/bin/python\n",
      "cachedir: .pytest_cache\n",
      "rootdir: /home/yousif/code/ai-yousif/05-ML/04-Under-the-hood/data-loss-functions/tests\n",
      "plugins: anyio-3.6.2, asyncio-0.19.0, typeguard-2.13.3\n",
      "asyncio: mode=strict\n",
      "\u001b[1mcollecting ... \u001b[0mcollected 3 items\n",
      "\n",
      "test_loss_functions.py::TestLossFunctions::test_max_error_order \u001b[32mPASSED\u001b[0m\u001b[32m   [ 33%]\u001b[0m\n",
      "test_loss_functions.py::TestLossFunctions::test_r2 \u001b[32mPASSED\u001b[0m\u001b[32m                [ 66%]\u001b[0m\n",
      "test_loss_functions.py::TestLossFunctions::test_r2_mae \u001b[32mPASSED\u001b[0m\u001b[32m            [100%]\u001b[0m\n",
      "\n",
      "\u001b[32m============================== \u001b[32m\u001b[1m3 passed\u001b[0m\u001b[32m in 0.31s\u001b[0m\u001b[32m ===============================\u001b[0m\n",
      "\n",
      "\n",
      "💯 You can commit your code:\n",
      "\n",
      "\u001b[1;32mgit\u001b[39m add tests/loss_functions.pickle\n",
      "\n",
      "\u001b[32mgit\u001b[39m commit -m \u001b[33m'Completed loss_functions step'\u001b[39m\n",
      "\n",
      "\u001b[32mgit\u001b[39m push origin master\n",
      "\n"
     ]
    }
   ],
   "source": [
    "from nbresult import ChallengeResult\n",
    "\n",
    "result = ChallengeResult(\n",
    "    'loss_functions',\n",
    "    r2 = r2,\n",
    "    r2_mae = r2_mae,\n",
    "    max_error = max_error_celsius,\n",
    "    max_error_mae = max_error_mae\n",
    ")\n",
    "\n",
    "result.write()\n",
    "print(result.check())"
   ]
  },
  {
   "cell_type": "code",
   "execution_count": null,
   "metadata": {},
   "outputs": [],
   "source": []
  }
 ],
 "metadata": {
  "kernelspec": {
   "display_name": "Python 3 (ipykernel)",
   "language": "python",
   "name": "python3"
  },
  "language_info": {
   "codemirror_mode": {
    "name": "ipython",
    "version": 3
   },
   "file_extension": ".py",
   "mimetype": "text/x-python",
   "name": "python",
   "nbconvert_exporter": "python",
   "pygments_lexer": "ipython3",
   "version": "3.10.6"
  },
  "toc": {
   "base_numbering": 1,
   "nav_menu": {},
   "number_sections": true,
   "sideBar": true,
   "skip_h1_title": false,
   "title_cell": "Table of Contents",
   "title_sidebar": "Contents",
   "toc_cell": false,
   "toc_position": {},
   "toc_section_display": true,
   "toc_window_display": false
  }
 },
 "nbformat": 4,
 "nbformat_minor": 4
}
